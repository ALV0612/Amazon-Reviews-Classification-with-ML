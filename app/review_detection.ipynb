{
 "cells": [
  {
   "cell_type": "code",
   "execution_count": 23,
   "metadata": {},
   "outputs": [],
   "source": [
    "import numpy as np\n",
    "import seaborn as sns\n",
    "import pandas as pd"
   ]
  },
  {
   "cell_type": "code",
   "execution_count": 24,
   "metadata": {},
   "outputs": [
    {
     "data": {
      "text/html": [
       "<div>\n",
       "<style scoped>\n",
       "    .dataframe tbody tr th:only-of-type {\n",
       "        vertical-align: middle;\n",
       "    }\n",
       "\n",
       "    .dataframe tbody tr th {\n",
       "        vertical-align: top;\n",
       "    }\n",
       "\n",
       "    .dataframe thead th {\n",
       "        text-align: right;\n",
       "    }\n",
       "</style>\n",
       "<table border=\"1\" class=\"dataframe\">\n",
       "  <thead>\n",
       "    <tr style=\"text-align: right;\">\n",
       "      <th></th>\n",
       "      <th>Reviews</th>\n",
       "      <th>label</th>\n",
       "    </tr>\n",
       "  </thead>\n",
       "  <tbody>\n",
       "    <tr>\n",
       "      <th>0</th>\n",
       "      <td>This product so far has not disappointed. My c...</td>\n",
       "      <td>spam</td>\n",
       "    </tr>\n",
       "    <tr>\n",
       "      <th>1</th>\n",
       "      <td>great for beginner or experienced person. Boug...</td>\n",
       "      <td>spam</td>\n",
       "    </tr>\n",
       "    <tr>\n",
       "      <th>2</th>\n",
       "      <td>Inexpensive tablet for him to use and learn on...</td>\n",
       "      <td>spam</td>\n",
       "    </tr>\n",
       "    <tr>\n",
       "      <th>3</th>\n",
       "      <td>I've had my Fire HD 8 two weeks now and I love...</td>\n",
       "      <td>ham</td>\n",
       "    </tr>\n",
       "    <tr>\n",
       "      <th>4</th>\n",
       "      <td>I bought this for my grand daughter when she c...</td>\n",
       "      <td>ham</td>\n",
       "    </tr>\n",
       "  </tbody>\n",
       "</table>\n",
       "</div>"
      ],
      "text/plain": [
       "                                             Reviews label\n",
       "0  This product so far has not disappointed. My c...  spam\n",
       "1  great for beginner or experienced person. Boug...  spam\n",
       "2  Inexpensive tablet for him to use and learn on...  spam\n",
       "3  I've had my Fire HD 8 two weeks now and I love...   ham\n",
       "4  I bought this for my grand daughter when she c...   ham"
      ]
     },
     "execution_count": 24,
     "metadata": {},
     "output_type": "execute_result"
    }
   ],
   "source": [
    "df = pd.read_csv(\"amazon_reviews.csv\")\n",
    "df.head()"
   ]
  },
  {
   "cell_type": "code",
   "execution_count": 25,
   "metadata": {},
   "outputs": [
    {
     "data": {
      "text/plain": [
       "(5002, 2)"
      ]
     },
     "execution_count": 25,
     "metadata": {},
     "output_type": "execute_result"
    }
   ],
   "source": [
    "df.shape"
   ]
  },
  {
   "cell_type": "markdown",
   "metadata": {},
   "source": [
    "1. Data cleaning"
   ]
  },
  {
   "cell_type": "code",
   "execution_count": 26,
   "metadata": {},
   "outputs": [
    {
     "name": "stdout",
     "output_type": "stream",
     "text": [
      "<class 'pandas.core.frame.DataFrame'>\n",
      "RangeIndex: 5002 entries, 0 to 5001\n",
      "Data columns (total 2 columns):\n",
      " #   Column   Non-Null Count  Dtype \n",
      "---  ------   --------------  ----- \n",
      " 0   Reviews  5002 non-null   object\n",
      " 1   label    5002 non-null   object\n",
      "dtypes: object(2)\n",
      "memory usage: 78.3+ KB\n"
     ]
    }
   ],
   "source": [
    "df.info()"
   ]
  },
  {
   "cell_type": "code",
   "execution_count": 27,
   "metadata": {},
   "outputs": [
    {
     "data": {
      "text/plain": [
       "label\n",
       "ham     3356\n",
       "spam    1646\n",
       "Name: count, dtype: int64"
      ]
     },
     "execution_count": 27,
     "metadata": {},
     "output_type": "execute_result"
    }
   ],
   "source": [
    "df.label.value_counts()"
   ]
  },
  {
   "cell_type": "code",
   "execution_count": 28,
   "metadata": {},
   "outputs": [],
   "source": [
    "from sklearn.preprocessing import LabelEncoder\n",
    "encoder = LabelEncoder()\n",
    "df['label']= encoder.fit_transform(df['label'])"
   ]
  },
  {
   "cell_type": "code",
   "execution_count": 29,
   "metadata": {},
   "outputs": [
    {
     "data": {
      "text/html": [
       "<div>\n",
       "<style scoped>\n",
       "    .dataframe tbody tr th:only-of-type {\n",
       "        vertical-align: middle;\n",
       "    }\n",
       "\n",
       "    .dataframe tbody tr th {\n",
       "        vertical-align: top;\n",
       "    }\n",
       "\n",
       "    .dataframe thead th {\n",
       "        text-align: right;\n",
       "    }\n",
       "</style>\n",
       "<table border=\"1\" class=\"dataframe\">\n",
       "  <thead>\n",
       "    <tr style=\"text-align: right;\">\n",
       "      <th></th>\n",
       "      <th>Reviews</th>\n",
       "      <th>label</th>\n",
       "    </tr>\n",
       "  </thead>\n",
       "  <tbody>\n",
       "    <tr>\n",
       "      <th>0</th>\n",
       "      <td>This product so far has not disappointed. My c...</td>\n",
       "      <td>1</td>\n",
       "    </tr>\n",
       "    <tr>\n",
       "      <th>1</th>\n",
       "      <td>great for beginner or experienced person. Boug...</td>\n",
       "      <td>1</td>\n",
       "    </tr>\n",
       "    <tr>\n",
       "      <th>2</th>\n",
       "      <td>Inexpensive tablet for him to use and learn on...</td>\n",
       "      <td>1</td>\n",
       "    </tr>\n",
       "    <tr>\n",
       "      <th>3</th>\n",
       "      <td>I've had my Fire HD 8 two weeks now and I love...</td>\n",
       "      <td>0</td>\n",
       "    </tr>\n",
       "    <tr>\n",
       "      <th>4</th>\n",
       "      <td>I bought this for my grand daughter when she c...</td>\n",
       "      <td>0</td>\n",
       "    </tr>\n",
       "  </tbody>\n",
       "</table>\n",
       "</div>"
      ],
      "text/plain": [
       "                                             Reviews  label\n",
       "0  This product so far has not disappointed. My c...      1\n",
       "1  great for beginner or experienced person. Boug...      1\n",
       "2  Inexpensive tablet for him to use and learn on...      1\n",
       "3  I've had my Fire HD 8 two weeks now and I love...      0\n",
       "4  I bought this for my grand daughter when she c...      0"
      ]
     },
     "execution_count": 29,
     "metadata": {},
     "output_type": "execute_result"
    }
   ],
   "source": [
    "df.head()"
   ]
  },
  {
   "cell_type": "code",
   "execution_count": 30,
   "metadata": {},
   "outputs": [
    {
     "name": "stdout",
     "output_type": "stream",
     "text": [
      "0\n",
      "0\n"
     ]
    }
   ],
   "source": [
    "# check Na value\n",
    "print(df['Reviews'].isna().sum())\n",
    "print(df['label'].isna().sum())\n",
    "#remove duplicate value\n",
    "df = df.drop_duplicates(keep='first')"
   ]
  },
  {
   "cell_type": "markdown",
   "metadata": {},
   "source": [
    "2.EDA"
   ]
  },
  {
   "cell_type": "code",
   "execution_count": 31,
   "metadata": {},
   "outputs": [
    {
     "data": {
      "text/plain": [
       "label\n",
       "0    3356\n",
       "1    1646\n",
       "Name: count, dtype: int64"
      ]
     },
     "execution_count": 31,
     "metadata": {},
     "output_type": "execute_result"
    }
   ],
   "source": [
    "df['label'].value_counts()"
   ]
  },
  {
   "cell_type": "code",
   "execution_count": 32,
   "metadata": {},
   "outputs": [
    {
     "data": {
      "image/png": "[encoded data removed]",
      "text/plain": [
       "<Figure size 640x480 with 1 Axes>"
      ]
     },
     "metadata": {},
     "output_type": "display_data"
    }
   ],
   "source": [
    "import matplotlib.pyplot as plt\n",
    "plt.pie(df['label'].value_counts(), labels=['ham','spam'],autopct=\"%0.2f%%\")\n",
    "plt.show()"
   ]
  },
  {
   "cell_type": "markdown",
   "metadata": {},
   "source": [
    "3. Text preprocessing"
   ]
  },
  {
   "cell_type": "code",
   "execution_count": 33,
   "metadata": {},
   "outputs": [
    {
     "name": "stdout",
     "output_type": "stream",
     "text": [
      "                                             Reviews  \\\n",
      "0  This product so far has not disappointed. My c...   \n",
      "1  great for beginner or experienced person. Boug...   \n",
      "2  Inexpensive tablet for him to use and learn on...   \n",
      "3  I've had my Fire HD 8 two weeks now and I love...   \n",
      "4  I bought this for my grand daughter when she c...   \n",
      "\n",
      "                                        clean_review  \n",
      "0  product far disappoint child love use like abi...  \n",
      "1    great beginner experienced person buy gift love  \n",
      "2  inexpensive tablet use learn step nabi thrill ...  \n",
      "3  ve fire hd 8 week love tablet great valuewe pr...  \n",
      "4  buy grand daughter come visit set user enter a...  \n"
     ]
    }
   ],
   "source": [
    "import re\n",
    "import spacy\n",
    "\n",
    "# Load mode SpaCy small english\n",
    "nlp = spacy.load(\"en_core_web_sm\")\n",
    "\n",
    "def preprocess_text(text):\n",
    "    text = text.lower()  \n",
    "    text = re.sub(r\"[^\\w\\s]\", \"\", text)  \n",
    "    doc = nlp(text)\n",
    "    words = [token.lemma_ for token in doc if not token.is_stop]\n",
    "\n",
    "    return \" \".join(words)\n",
    "\n",
    "df[\"clean_review\"] = df[\"Reviews\"].apply(preprocess_text)\n",
    "\n",
    "print(df[[\"Reviews\", \"clean_review\"]].head())\n"
   ]
  },
  {
   "cell_type": "code",
   "execution_count": 34,
   "metadata": {},
   "outputs": [
    {
     "data": {
      "text/html": [
       "<div>\n",
       "<style scoped>\n",
       "    .dataframe tbody tr th:only-of-type {\n",
       "        vertical-align: middle;\n",
       "    }\n",
       "\n",
       "    .dataframe tbody tr th {\n",
       "        vertical-align: top;\n",
       "    }\n",
       "\n",
       "    .dataframe thead th {\n",
       "        text-align: right;\n",
       "    }\n",
       "</style>\n",
       "<table border=\"1\" class=\"dataframe\">\n",
       "  <thead>\n",
       "    <tr style=\"text-align: right;\">\n",
       "      <th></th>\n",
       "      <th>Reviews</th>\n",
       "      <th>label</th>\n",
       "      <th>clean_review</th>\n",
       "    </tr>\n",
       "  </thead>\n",
       "  <tbody>\n",
       "    <tr>\n",
       "      <th>0</th>\n",
       "      <td>This product so far has not disappointed. My c...</td>\n",
       "      <td>1</td>\n",
       "      <td>product far disappoint child love use like abi...</td>\n",
       "    </tr>\n",
       "    <tr>\n",
       "      <th>1</th>\n",
       "      <td>great for beginner or experienced person. Boug...</td>\n",
       "      <td>1</td>\n",
       "      <td>great beginner experienced person buy gift love</td>\n",
       "    </tr>\n",
       "    <tr>\n",
       "      <th>2</th>\n",
       "      <td>Inexpensive tablet for him to use and learn on...</td>\n",
       "      <td>1</td>\n",
       "      <td>inexpensive tablet use learn step nabi thrill ...</td>\n",
       "    </tr>\n",
       "    <tr>\n",
       "      <th>3</th>\n",
       "      <td>I've had my Fire HD 8 two weeks now and I love...</td>\n",
       "      <td>0</td>\n",
       "      <td>ve fire hd 8 week love tablet great valuewe pr...</td>\n",
       "    </tr>\n",
       "    <tr>\n",
       "      <th>4</th>\n",
       "      <td>I bought this for my grand daughter when she c...</td>\n",
       "      <td>0</td>\n",
       "      <td>buy grand daughter come visit set user enter a...</td>\n",
       "    </tr>\n",
       "  </tbody>\n",
       "</table>\n",
       "</div>"
      ],
      "text/plain": [
       "                                             Reviews  label  \\\n",
       "0  This product so far has not disappointed. My c...      1   \n",
       "1  great for beginner or experienced person. Boug...      1   \n",
       "2  Inexpensive tablet for him to use and learn on...      1   \n",
       "3  I've had my Fire HD 8 two weeks now and I love...      0   \n",
       "4  I bought this for my grand daughter when she c...      0   \n",
       "\n",
       "                                        clean_review  \n",
       "0  product far disappoint child love use like abi...  \n",
       "1    great beginner experienced person buy gift love  \n",
       "2  inexpensive tablet use learn step nabi thrill ...  \n",
       "3  ve fire hd 8 week love tablet great valuewe pr...  \n",
       "4  buy grand daughter come visit set user enter a...  "
      ]
     },
     "execution_count": 34,
     "metadata": {},
     "output_type": "execute_result"
    }
   ],
   "source": [
    "df.head()"
   ]
  },
  {
   "cell_type": "code",
   "execution_count": 35,
   "metadata": {},
   "outputs": [
    {
     "name": "stdout",
     "output_type": "stream",
     "text": [
      "(5002, 4863)\n"
     ]
    }
   ],
   "source": [
    "from sklearn.feature_extraction.text import TfidfVectorizer\n",
    "\n",
    "vectorizer = TfidfVectorizer(max_features=5000)  # Chỉ lấy 5000 từ phổ biến nhất\n",
    "X = vectorizer.fit_transform(df[\"clean_review\"])\n",
    "\n",
    "print(X.shape)  # Số lượng mẫu x số đặc trưng\n"
   ]
  },
  {
   "cell_type": "code",
   "execution_count": null,
   "metadata": {},
   "outputs": [],
   "source": []
  },
  {
   "cell_type": "code",
   "execution_count": 36,
   "metadata": {},
   "outputs": [],
   "source": [
    "from sklearn.model_selection import train_test_split\n",
    "X_train,X_test,y_train,y_test = train_test_split(X,df['label'],test_size=0.2,random_state=148)"
   ]
  },
  {
   "cell_type": "code",
   "execution_count": 44,
   "metadata": {},
   "outputs": [],
   "source": [
    "from sklearn.preprocessing import StandardScaler\n",
    "\n",
    "scaler = StandardScaler(with_mean=False)  # Tránh lỗi trên sparse matrix\n",
    "X_train = scaler.fit_transform(X_train)\n",
    "X_test = scaler.transform(X_test)"
   ]
  },
  {
   "cell_type": "code",
   "execution_count": 45,
   "metadata": {},
   "outputs": [],
   "source": [
    "from imblearn.over_sampling import SMOTE\n",
    "\n",
    "smote = SMOTE(random_state=42)\n",
    "X_train, y_train = smote.fit_resample(X_train, y_train)"
   ]
  },
  {
   "cell_type": "code",
   "execution_count": 46,
   "metadata": {},
   "outputs": [],
   "source": [
    "X_train_dense = X_train.toarray()\n",
    "X_test_dense = X_test.toarray()\n"
   ]
  },
  {
   "cell_type": "code",
   "execution_count": 47,
   "metadata": {},
   "outputs": [
    {
     "name": "stderr",
     "output_type": "stream",
     "text": [
      " 97%|█████████▋| 30/31 [08:48<00:13, 13.66s/it]"
     ]
    },
    {
     "name": "stdout",
     "output_type": "stream",
     "text": [
      "[LightGBM] [Info] Number of positive: 2690, number of negative: 2690\n",
      "[LightGBM] [Info] Auto-choosing row-wise multi-threading, the overhead of testing was 0.005907 seconds.\n",
      "You can set `force_row_wise=true` to remove the overhead.\n",
      "And if memory is not enough, you can set `force_col_wise=true`.\n",
      "[LightGBM] [Info] Total Bins 17551\n",
      "[LightGBM] [Info] Number of data points in the train set: 5380, number of used features: 470\n",
      "[LightGBM] [Info] [binary:BoostFromScore]: pavg=0.500000 -> initscore=0.000000\n"
     ]
    },
    {
     "name": "stderr",
     "output_type": "stream",
     "text": [
      "100%|██████████| 31/31 [08:50<00:00, 17.11s/it]"
     ]
    },
    {
     "name": "stdout",
     "output_type": "stream",
     "text": [
      "                               Accuracy  Balanced Accuracy  ROC AUC  F1 Score  \\\n",
      "Model                                                                           \n",
      "RandomForestClassifier             0.72               0.66     0.66      0.71   \n",
      "AdaBoostClassifier                 0.68               0.65     0.65      0.68   \n",
      "BernoulliNB                        0.67               0.65     0.65      0.67   \n",
      "LGBMClassifier                     0.69               0.64     0.64      0.69   \n",
      "XGBClassifier                      0.68               0.63     0.63      0.68   \n",
      "ExtraTreesClassifier               0.71               0.63     0.63      0.69   \n",
      "DecisionTreeClassifier             0.65               0.61     0.61      0.65   \n",
      "BaggingClassifier                  0.66               0.60     0.60      0.65   \n",
      "RidgeClassifierCV                  0.61               0.59     0.59      0.62   \n",
      "NearestCentroid                    0.61               0.59     0.59      0.62   \n",
      "SVC                                0.63               0.58     0.58      0.63   \n",
      "PassiveAggressiveClassifier        0.61               0.58     0.58      0.61   \n",
      "LinearDiscriminantAnalysis         0.60               0.58     0.58      0.61   \n",
      "CalibratedClassifierCV             0.62               0.57     0.57      0.62   \n",
      "RidgeClassifier                    0.60               0.57     0.57      0.61   \n",
      "LogisticRegression                 0.61               0.57     0.57      0.61   \n",
      "NuSVC                              0.62               0.57     0.57      0.62   \n",
      "Perceptron                         0.62               0.57     0.57      0.62   \n",
      "ExtraTreeClassifier                0.61               0.57     0.57      0.61   \n",
      "LinearSVC                          0.61               0.57     0.57      0.61   \n",
      "SGDClassifier                      0.64               0.55     0.55      0.61   \n",
      "KNeighborsClassifier               0.51               0.54     0.54      0.52   \n",
      "QuadraticDiscriminantAnalysis      0.64               0.52     0.52      0.59   \n",
      "GaussianNB                         0.42               0.50     0.50      0.40   \n",
      "LabelPropagation                   0.67               0.50     0.50      0.54   \n",
      "LabelSpreading                     0.67               0.50     0.50      0.54   \n",
      "DummyClassifier                    0.67               0.50     0.50      0.53   \n",
      "\n",
      "                               Time Taken  \n",
      "Model                                      \n",
      "RandomForestClassifier               7.53  \n",
      "AdaBoostClassifier                  18.57  \n",
      "BernoulliNB                          1.33  \n",
      "LGBMClassifier                       2.28  \n",
      "XGBClassifier                        4.02  \n",
      "ExtraTreesClassifier                22.18  \n",
      "DecisionTreeClassifier               2.35  \n",
      "BaggingClassifier                    8.78  \n",
      "RidgeClassifierCV                   47.79  \n",
      "NearestCentroid                      1.25  \n",
      "SVC                                 59.38  \n",
      "PassiveAggressiveClassifier          2.28  \n",
      "LinearDiscriminantAnalysis          42.95  \n",
      "CalibratedClassifierCV              89.29  \n",
      "RidgeClassifier                      2.89  \n",
      "LogisticRegression                   2.13  \n",
      "NuSVC                               47.45  \n",
      "Perceptron                           2.00  \n",
      "ExtraTreeClassifier                  1.41  \n",
      "LinearSVC                          122.59  \n",
      "SGDClassifier                        3.12  \n",
      "KNeighborsClassifier                 1.35  \n",
      "QuadraticDiscriminantAnalysis       24.73  \n",
      "GaussianNB                           1.61  \n",
      "LabelPropagation                     3.94  \n",
      "LabelSpreading                       4.26  \n",
      "DummyClassifier                      1.08  \n"
     ]
    },
    {
     "name": "stderr",
     "output_type": "stream",
     "text": [
      "\n"
     ]
    }
   ],
   "source": [
    "from lazypredict.Supervised import LazyClassifier  \n",
    "clf = LazyClassifier().fit(X_train_dense, X_test_dense, y_train, y_test)  \n",
    "print(clf[0])  # Hiển thị kết quả của 30 mô hình\n"
   ]
  },
  {
   "cell_type": "code",
   "execution_count": 48,
   "metadata": {},
   "outputs": [
    {
     "name": "stdout",
     "output_type": "stream",
     "text": [
      "Accuracy            0.72\n",
      "Balanced Accuracy   0.66\n",
      "ROC AUC             0.66\n",
      "F1 Score            0.71\n",
      "Time Taken          7.53\n",
      "Name: RandomForestClassifier, dtype: float64\n"
     ]
    }
   ],
   "source": [
    "best_model = clf[0].loc[clf[0]['Accuracy'].idxmax()]\n",
    "print(best_model)"
   ]
  },
  {
   "cell_type": "markdown",
   "metadata": {},
   "source": [
    "Use optune to select the best param"
   ]
  },
  {
   "cell_type": "code",
   "execution_count": 50,
   "metadata": {},
   "outputs": [
    {
     "name": "stderr",
     "output_type": "stream",
     "text": [
      "[I 2025-02-21 14:13:18,897] A new study created in memory with name: no-name-05505ab7-f4c2-4362-9712-04f22c6b5cf0\n",
      "[I 2025-02-21 14:13:27,660] Trial 0 finished with value: 0.7550185873605948 and parameters: {'n_estimators': 263, 'max_depth': 17, 'min_samples_split': 10, 'min_samples_leaf': 2}. Best is trial 0 with value: 0.7550185873605948.\n",
      "[I 2025-02-21 14:13:30,609] Trial 1 finished with value: 0.7431226765799257 and parameters: {'n_estimators': 198, 'max_depth': 6, 'min_samples_split': 10, 'min_samples_leaf': 1}. Best is trial 0 with value: 0.7550185873605948.\n",
      "[I 2025-02-21 14:13:35,139] Trial 2 finished with value: 0.754089219330855 and parameters: {'n_estimators': 166, 'max_depth': 12, 'min_samples_split': 9, 'min_samples_leaf': 1}. Best is trial 0 with value: 0.7550185873605948.\n",
      "[I 2025-02-21 14:13:50,591] Trial 3 finished with value: 0.7509293680297399 and parameters: {'n_estimators': 416, 'max_depth': 22, 'min_samples_split': 2, 'min_samples_leaf': 4}. Best is trial 0 with value: 0.7550185873605948.\n",
      "[I 2025-02-21 14:14:03,611] Trial 4 finished with value: 0.7553903345724906 and parameters: {'n_estimators': 248, 'max_depth': 31, 'min_samples_split': 2, 'min_samples_leaf': 3}. Best is trial 4 with value: 0.7553903345724906.\n",
      "[I 2025-02-21 14:14:09,511] Trial 5 finished with value: 0.7637546468401487 and parameters: {'n_estimators': 155, 'max_depth': 16, 'min_samples_split': 9, 'min_samples_leaf': 1}. Best is trial 5 with value: 0.7637546468401487.\n",
      "[I 2025-02-21 14:14:47,867] Trial 6 finished with value: 0.791449814126394 and parameters: {'n_estimators': 329, 'max_depth': 45, 'min_samples_split': 2, 'min_samples_leaf': 1}. Best is trial 6 with value: 0.791449814126394.\n",
      "[I 2025-02-21 14:15:01,757] Trial 7 finished with value: 0.7477695167286246 and parameters: {'n_estimators': 414, 'max_depth': 18, 'min_samples_split': 3, 'min_samples_leaf': 5}. Best is trial 6 with value: 0.791449814126394.\n",
      "[I 2025-02-21 14:15:16,781] Trial 8 finished with value: 0.7565055762081785 and parameters: {'n_estimators': 247, 'max_depth': 44, 'min_samples_split': 3, 'min_samples_leaf': 3}. Best is trial 6 with value: 0.791449814126394.\n",
      "[I 2025-02-21 14:15:35,108] Trial 9 finished with value: 0.7553903345724907 and parameters: {'n_estimators': 500, 'max_depth': 19, 'min_samples_split': 8, 'min_samples_leaf': 3}. Best is trial 6 with value: 0.791449814126394.\n",
      "[I 2025-02-21 14:15:41,269] Trial 10 finished with value: 0.762825278810409 and parameters: {'n_estimators': 83, 'max_depth': 50, 'min_samples_split': 5, 'min_samples_leaf': 2}. Best is trial 6 with value: 0.791449814126394.\n",
      "[I 2025-02-21 14:16:08,773] Trial 11 finished with value: 0.7782527881040892 and parameters: {'n_estimators': 357, 'max_depth': 33, 'min_samples_split': 6, 'min_samples_leaf': 1}. Best is trial 6 with value: 0.791449814126394.\n",
      "[I 2025-02-21 14:16:31,326] Trial 12 finished with value: 0.762453531598513 and parameters: {'n_estimators': 371, 'max_depth': 35, 'min_samples_split': 6, 'min_samples_leaf': 2}. Best is trial 6 with value: 0.791449814126394.\n",
      "[I 2025-02-21 14:17:02,265] Trial 13 finished with value: 0.7810408921933085 and parameters: {'n_estimators': 360, 'max_depth': 37, 'min_samples_split': 5, 'min_samples_leaf': 1}. Best is trial 6 with value: 0.791449814126394.\n",
      "[I 2025-02-21 14:17:25,002] Trial 14 finished with value: 0.7641263940520446 and parameters: {'n_estimators': 331, 'max_depth': 43, 'min_samples_split': 4, 'min_samples_leaf': 2}. Best is trial 6 with value: 0.791449814126394.\n",
      "[I 2025-02-21 14:18:06,116] Trial 15 finished with value: 0.7814126394052044 and parameters: {'n_estimators': 485, 'max_depth': 40, 'min_samples_split': 7, 'min_samples_leaf': 1}. Best is trial 6 with value: 0.791449814126394.\n",
      "[I 2025-02-21 14:18:33,483] Trial 16 finished with value: 0.7535315985130111 and parameters: {'n_estimators': 495, 'max_depth': 50, 'min_samples_split': 7, 'min_samples_leaf': 4}. Best is trial 6 with value: 0.791449814126394.\n",
      "[I 2025-02-21 14:19:00,632] Trial 17 finished with value: 0.7639405204460967 and parameters: {'n_estimators': 424, 'max_depth': 42, 'min_samples_split': 7, 'min_samples_leaf': 2}. Best is trial 6 with value: 0.791449814126394.\n",
      "[I 2025-02-21 14:19:13,294] Trial 18 finished with value: 0.7516728624535316 and parameters: {'n_estimators': 300, 'max_depth': 26, 'min_samples_split': 7, 'min_samples_leaf': 4}. Best is trial 6 with value: 0.791449814126394.\n",
      "[I 2025-02-21 14:19:53,973] Trial 19 finished with value: 0.7842007434944238 and parameters: {'n_estimators': 467, 'max_depth': 39, 'min_samples_split': 5, 'min_samples_leaf': 1}. Best is trial 6 with value: 0.791449814126394.\n"
     ]
    },
    {
     "name": "stdout",
     "output_type": "stream",
     "text": [
      "Best parameters: {'n_estimators': 329, 'max_depth': 45, 'min_samples_split': 2, 'min_samples_leaf': 1}\n"
     ]
    }
   ],
   "source": [
    "import optuna\n",
    "from sklearn.ensemble import RandomForestClassifier\n",
    "from sklearn.model_selection import cross_val_score\n",
    "\n",
    "# Hàm mục tiêu để tối ưu\n",
    "def objective(trial):\n",
    "    n_estimators = trial.suggest_int(\"n_estimators\", 50, 500)\n",
    "    max_depth = trial.suggest_int(\"max_depth\", 5, 50)\n",
    "    min_samples_split = trial.suggest_int(\"min_samples_split\", 2, 10)\n",
    "    min_samples_leaf = trial.suggest_int(\"min_samples_leaf\", 1, 5)\n",
    "\n",
    "    model = RandomForestClassifier(\n",
    "        n_estimators=n_estimators,\n",
    "        max_depth=max_depth,\n",
    "        min_samples_split=min_samples_split,\n",
    "        min_samples_leaf=min_samples_leaf,\n",
    "        random_state=42,\n",
    "    )\n",
    "\n",
    "    score = cross_val_score(model, X_train, y_train, cv=5, scoring=\"accuracy\").mean()\n",
    "    return score\n",
    "\n",
    "# Chạy tối ưu\n",
    "study = optuna.create_study(direction=\"maximize\")\n",
    "study.optimize(objective, n_trials=20)  # Thử 20 lần\n",
    "\n",
    "# In kết quả\n",
    "print(\"Best parameters:\", study.best_params)\n"
   ]
  },
  {
   "cell_type": "code",
   "execution_count": 51,
   "metadata": {},
   "outputs": [
    {
     "name": "stdout",
     "output_type": "stream",
     "text": [
      "Best Parameters: {'n_estimators': 329, 'max_depth': 45, 'min_samples_split': 2, 'min_samples_leaf': 1}\n"
     ]
    }
   ],
   "source": [
    "# Kết quả tốt nhất\n",
    "best_params = study.best_params\n",
    "print(\"Best Parameters:\", best_params)\n"
   ]
  },
  {
   "cell_type": "code",
   "execution_count": 54,
   "metadata": {},
   "outputs": [
    {
     "name": "stdout",
     "output_type": "stream",
     "text": [
      "Best Model Accuracy: 0.7173\n"
     ]
    }
   ],
   "source": [
    "best_model = RandomForestClassifier(**best_params)\n",
    "best_model.fit(X_train_dense,y_train)\n",
    "accuracy = best_model.score(X_test_dense, y_test)\n",
    "print(f\"Best Model Accuracy: {accuracy:.4f}\")"
   ]
  },
  {
   "cell_type": "markdown",
   "metadata": {},
   "source": [
    "*Use GridSearchCV to find best param"
   ]
  },
  {
   "cell_type": "code",
   "execution_count": 55,
   "metadata": {},
   "outputs": [
    {
     "name": "stdout",
     "output_type": "stream",
     "text": [
      "Best parameters: {'max_depth': None, 'min_samples_leaf': 1, 'min_samples_split': 2, 'n_estimators': 100}\n"
     ]
    }
   ],
   "source": [
    "from sklearn.model_selection import GridSearchCV\n",
    "\n",
    "param_grid = {\n",
    "    \"n_estimators\": [50, 100, 200],\n",
    "    \"max_depth\": [10, 20, None],\n",
    "    \"min_samples_split\": [2, 5],\n",
    "    \"min_samples_leaf\": [1, 2],\n",
    "}\n",
    "\n",
    "clf = RandomForestClassifier(random_state=42)\n",
    "\n",
    "search = GridSearchCV(clf, param_grid, cv=5, scoring=\"accuracy\", n_jobs=-1)\n",
    "search.fit(X_train, y_train)\n",
    "\n",
    "print(\"Best parameters:\", search.best_params_)"
   ]
  },
  {
   "cell_type": "code",
   "execution_count": 58,
   "metadata": {},
   "outputs": [
    {
     "name": "stdout",
     "output_type": "stream",
     "text": [
      "Best Parameters: {'max_depth': None, 'min_samples_leaf': 1, 'min_samples_split': 2, 'n_estimators': 100}\n",
      "Accuracy: 0.7183\n",
      "F1-score: 0.7095\n"
     ]
    }
   ],
   "source": [
    "from sklearn.metrics import accuracy_score, f1_score\n",
    "\n",
    "best_model = search.best_estimator_\n",
    "\n",
    "# Bước 4: Dự đoán trên tập test\n",
    "y_pred = best_model.predict(X_test)\n",
    "\n",
    "# Bước 5: Tính Accuracy và F1-score\n",
    "accuracy = accuracy_score(y_test, y_pred)\n",
    "f1 = f1_score(y_test, y_pred, average=\"weighted\")  # hoặc average=\"macro\"\n",
    "\n",
    "# In kết quả\n",
    "print(\"Best Parameters:\", search.best_params_)\n",
    "print(f\"Accuracy: {accuracy:.4f}\")\n",
    "print(f\"F1-score: {f1:.4f}\")\n"
   ]
  },
  {
   "cell_type": "code",
   "execution_count": null,
   "metadata": {},
   "outputs": [],
   "source": []
  }
 ],
 "metadata": {
  "kernelspec": {
   "display_name": "Python 3",
   "language": "python",
   "name": "python3"
  },
  "language_info": {
   "codemirror_mode": {
    "name": "ipython",
    "version": 3
   },
   "file_extension": ".py",
   "mimetype": "text/x-python",
   "name": "python",
   "nbconvert_exporter": "python",
   "pygments_lexer": "ipython3",
   "version": "3.11.9"
  }
 },
 "nbformat": 4,
 "nbformat_minor": 2
}
